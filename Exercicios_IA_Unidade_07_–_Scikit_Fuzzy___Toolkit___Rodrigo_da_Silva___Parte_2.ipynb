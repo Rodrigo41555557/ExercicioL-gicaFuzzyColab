{
  "nbformat": 4,
  "nbformat_minor": 0,
  "metadata": {
    "colab": {
      "name": "Exercicios_IA_Unidade_07_–_Scikit_Fuzzy___Toolkit___Rodrigo_da_Silva___Parte_2.ipynb",
      "provenance": []
    },
    "kernelspec": {
      "name": "python3",
      "display_name": "Python 3"
    },
    "language_info": {
      "name": "python"
    }
  },
  "cells": [
    {
      "cell_type": "markdown",
      "source": [
        "**Exercício 2**\n",
        "\n",
        "Desenvolver um sistema fuzzy através do método de Mamdani em que se deseja avaliar a inscrição de um determinado cliente para um pedido de financiamento imobiliário. Em outras palavras, o sistema deve indicar se o cliente pode ser considerado potencialmente apto para receber tal financiamento. Têm-se ás seguintes variáveis conforme mostra a tabela na lista:\n",
        "\n",
        "Para o desenvolvimento desse sistema têm-se o seguinte conjunto de regras:\n",
        "• Regra 1: se o valor dos bens é baixo e a renda mensal é baixa, então otencialidade do\n",
        "cliente é baixa;\n",
        "• Regra 2: se o valor dos bens é baixo e a renda mensal é média, então potencialidade do\n",
        "cliente é baixa;\n",
        "• Regra 3: se o valor dos bens é baixo e a renda mensal é alta, então potencialidade do\n",
        "cliente é média;\n",
        "• Regra 4: se o valor dos bens é baixo e a renda mensal é muito alta, então potencialidade\n",
        "do cliente é alta;\n",
        "• Regra 5: se o valor dos bens é médio e a renda mensal é baixa, então potencialidade do\n",
        "cliente é baixa;\n",
        "• Regra 6: se o valor dos bens é médio e a renda mensal é média, então potencialidade do\n",
        "cliente é média;\n",
        "• Regra 7: se o valor dos bens é médio e a renda mensal é alta, então potencialidade do\n",
        "cliente é alta;\n",
        "• Regra 8: se o valor dos bens é médio e a renda mensal é muito alta, então potencialidade\n",
        "do cliente é alta;\n",
        "• Regra 9: se o valor dos bens é alto e a renda mensal é baixa, então potencialidade do\n",
        "cliente é média.\n",
        "• Regra 10: se o valor dos bens é alto e a renda mensal é média, então potencialidade do\n",
        "cliente é média;\n",
        "• Regra 11: se o valor dos bens é alto e a renda mensal é alta, então potencialidade do\n",
        "cliente é alta;\n",
        "• Regra 12: se o valor dos bens é alto e a renda mensal é muito alta, então potencialidade\n",
        "do cliente é alta."
      ],
      "metadata": {
        "id": "X1EbAg2C8Uwn"
      }
    },
    {
      "cell_type": "code",
      "source": [
        "!pip install networkx==2.3\n",
        "!pip install scikit-fuzzy "
      ],
      "metadata": {
        "colab": {
          "base_uri": "https://localhost:8080/"
        },
        "id": "Z79CJq2O8j03",
        "outputId": "1f7cf286-ead2-4594-8ed0-ccfc2109a1b4"
      },
      "execution_count": 2,
      "outputs": [
        {
          "output_type": "stream",
          "name": "stdout",
          "text": [
            "Looking in indexes: https://pypi.org/simple, https://us-python.pkg.dev/colab-wheels/public/simple/\n",
            "Collecting networkx==2.3\n",
            "  Downloading networkx-2.3.zip (1.7 MB)\n",
            "\u001b[K     |████████████████████████████████| 1.7 MB 4.3 MB/s \n",
            "\u001b[?25hRequirement already satisfied: decorator>=4.3.0 in /usr/local/lib/python3.7/dist-packages (from networkx==2.3) (4.4.2)\n",
            "Building wheels for collected packages: networkx\n",
            "  Building wheel for networkx (setup.py) ... \u001b[?25l\u001b[?25hdone\n",
            "  Created wheel for networkx: filename=networkx-2.3-py2.py3-none-any.whl size=1556008 sha256=2c1176901af498b757ff799fafe094e2aa9e58d5b09b685bbe8522401013c85d\n",
            "  Stored in directory: /root/.cache/pip/wheels/44/e6/b8/4efaab31158e9e9ca9ed80b11f6b11130bac9a9672b3cbbeaf\n",
            "Successfully built networkx\n",
            "Installing collected packages: networkx\n",
            "  Attempting uninstall: networkx\n",
            "    Found existing installation: networkx 2.6.3\n",
            "    Uninstalling networkx-2.6.3:\n",
            "      Successfully uninstalled networkx-2.6.3\n",
            "\u001b[31mERROR: pip's dependency resolver does not currently take into account all the packages that are installed. This behaviour is the source of the following dependency conflicts.\n",
            "albumentations 0.1.12 requires imgaug<0.2.7,>=0.2.5, but you have imgaug 0.2.9 which is incompatible.\u001b[0m\n",
            "Successfully installed networkx-2.3\n",
            "Looking in indexes: https://pypi.org/simple, https://us-python.pkg.dev/colab-wheels/public/simple/\n",
            "Collecting scikit-fuzzy\n",
            "  Downloading scikit-fuzzy-0.4.2.tar.gz (993 kB)\n",
            "\u001b[K     |████████████████████████████████| 993 kB 4.1 MB/s \n",
            "\u001b[?25hRequirement already satisfied: numpy>=1.6.0 in /usr/local/lib/python3.7/dist-packages (from scikit-fuzzy) (1.21.6)\n",
            "Requirement already satisfied: scipy>=0.9.0 in /usr/local/lib/python3.7/dist-packages (from scikit-fuzzy) (1.4.1)\n",
            "Requirement already satisfied: networkx>=1.9.0 in /usr/local/lib/python3.7/dist-packages (from scikit-fuzzy) (2.3)\n",
            "Requirement already satisfied: decorator>=4.3.0 in /usr/local/lib/python3.7/dist-packages (from networkx>=1.9.0->scikit-fuzzy) (4.4.2)\n",
            "Building wheels for collected packages: scikit-fuzzy\n",
            "  Building wheel for scikit-fuzzy (setup.py) ... \u001b[?25l\u001b[?25hdone\n",
            "  Created wheel for scikit-fuzzy: filename=scikit_fuzzy-0.4.2-py3-none-any.whl size=894089 sha256=6402ea0cef8ab77056551a42b3495a219683897f3e4763c26c45b92c9494245c\n",
            "  Stored in directory: /root/.cache/pip/wheels/d5/74/fc/38588a3d2e3f34f74588e6daa3aa5b0a322bd6f9420a707131\n",
            "Successfully built scikit-fuzzy\n",
            "Installing collected packages: scikit-fuzzy\n",
            "Successfully installed scikit-fuzzy-0.4.2\n"
          ]
        }
      ]
    },
    {
      "cell_type": "code",
      "source": [
        "import numpy as npy\n",
        "import skfuzzy as fzzy\n",
        "from skfuzzy import control as ctrl\n",
        "\n",
        "valor_bens = ctrl.Antecedent(npy.arange(0, 10000, 1), 'bens')\n",
        "renda = ctrl.Antecedent(npy.arange(1000, 10000, 1), 'renda')\n",
        "cliente = ctrl.Consequent(npy.arange(0, 10, 1), 'cliente')\n",
        "\n",
        "valor_bens['baixo'] = fzzy.trimf(valor_bens.universe, [-4000, 0, 4000])\n",
        "valor_bens['medio'] = fzzy.trimf(valor_bens.universe, [1000, 5000, 9000])\n",
        "valor_bens['alto'] = fzzy.trimf(valor_bens.universe, [6000, 10000, 14000])\n",
        "\n",
        "renda['baixa'] = fzzy.trimf(renda.universe, [-3200, 1000, 3400])\n",
        "renda['media'] = fzzy.trimf(renda.universe, [1000, 3400, 6700])\n",
        "renda['alta'] = fzzy.trimf(renda.universe, [3400, 6700, 10000])\n",
        "renda['muito_alta'] = fzzy.trimf(renda.universe, [6700, 10000, 13300])\n",
        "\n",
        "cliente['baixo'] = fzzy.trapmf(cliente.universe, [-3.6, -0.4, 0.4, 3.6])\n",
        "cliente['medio'] = fzzy.trimf(cliente.universe, [1, 5, 9])\n",
        "cliente['alto'] = fzzy.trimf(cliente.universe, [6, 10, 14])"
      ],
      "metadata": {
        "id": "O-QJgeOh999i"
      },
      "execution_count": 4,
      "outputs": []
    },
    {
      "cell_type": "code",
      "source": [
        "regra1 = ctrl.Rule(valor_bens['baixo'] & renda['baixa'], cliente['baixo'])\n",
        "regra2 = ctrl.Rule(valor_bens['baixo'] & renda['media'], cliente['baixo'])\n",
        "regra3 = ctrl.Rule(valor_bens['baixo'] & renda['alta'], cliente['medio'])\n",
        "regra4 = ctrl.Rule(valor_bens['baixo'] & renda['muito_alta'], cliente['alto'])\n",
        "regra5 = ctrl.Rule(valor_bens['medio'] & renda['baixa'], cliente['baixo'])\n",
        "regra6 = ctrl.Rule(valor_bens['medio'] & renda['media'], cliente['medio'])\n",
        "regra7 = ctrl.Rule(valor_bens['medio'] & renda['alta'], cliente['alto'])\n",
        "regra8 = ctrl.Rule(valor_bens['medio'] & renda['muito_alta'], cliente['alto'])\n",
        "regra9 = ctrl.Rule(valor_bens['alto'] & renda['baixa'], cliente['medio'])\n",
        "regra10 = ctrl.Rule(valor_bens['alto'] & renda['media'], cliente['medio'])\n",
        "regra11 = ctrl.Rule(valor_bens['alto'] & renda['alta'], cliente['alto'])\n",
        "regra12 = ctrl.Rule(valor_bens['alto'] & renda['muito_alta'], cliente['alto'])"
      ],
      "metadata": {
        "id": "JtfSz8dTCLes"
      },
      "execution_count": 6,
      "outputs": []
    },
    {
      "cell_type": "code",
      "source": [
        "cliente.view()"
      ],
      "metadata": {
        "colab": {
          "base_uri": "https://localhost:8080/",
          "height": 281
        },
        "id": "2POunnRBDib2",
        "outputId": "17877dd5-f732-4558-9ab2-241af26413cb"
      },
      "execution_count": 8,
      "outputs": [
        {
          "output_type": "display_data",
          "data": {
            "text/plain": [
              "<Figure size 432x288 with 1 Axes>"
            ],
            "image/png": "[encoded data removed]"
          },
          "metadata": {
            "needs_background": "light"
          }
        }
      ]
    },
    {
      "cell_type": "markdown",
      "source": [
        "**Exercício 3**\n",
        "\n",
        "Desenvolver um sistema de monitoramento de um tanque baseado em lógica fuzzy. O\n",
        "objetivo dele é detectar e isolar 3 possíveis falhas (ver mais abaixo). A figura na lista\n",
        "mostra o referido sistema.\n",
        "\n",
        "Suponha que a taxa do fluxo de entrada (Fent) é fixa enquanto a taxa do fluxo de saída\n",
        "(Fsai) e o nível do líquido (h) são medidos. Quando o sistema está estável, o valor nominal\n",
        "do fluxo de saída é 3.3-3 m3 /min. Quando o fluxo de saída é menor do que 3.3-3 m3 /min, ele\n",
        "é considerado “baixo”. O valor nominal do nível do líquido (h) é 1.2 m e é considerado\n",
        "“baixo” está abaixo de 1 m, e “alto” quando está acima de 1.4 m. O sistema tem 3 possíveis\n",
        "falhas:\n",
        "a) desgaste do tubo de saída\n",
        "b) entupimento do tudo de saída\n",
        "c) vazamento do tanque\n",
        "O requisito para o sistema fuzzy de monitoramento:\n",
        "Entrada: 2 variáveis (taxa do fluxo de saída e nível do líquido)\n",
        "Saída: 3 variáveis (sinais) indicam a possibilidade da ocorrência da falha\n",
        "\n",
        "As regras de inferência para o sistema são:\n",
        "• se (fsai é normal) e (nível é normal) então (f1 não ocorre) (f2 não ocorre) (f3 não ocorre)\n",
        "• se (fsai é normal) e (nível é baixo) então (f1 ocorre) (f2 não ocorre) (f3 não ocorre)\n",
        "• se (fsai é normal) e (nível é alto) então (f1 não ocorre) (f2 ocorre) (f3 não ocorre)\n",
        "• se (fsai é baixo) e (nível é baixo) então (f1 não ocorre) (f2 não ocorre) (f3 ocorre)"
      ],
      "metadata": {
        "id": "wCu620lUEPM4"
      }
    },
    {
      "cell_type": "code",
      "source": [
        "fluxo_saida = ctrl.Antecedent(npy.arange(0.0025, 0.0041, 0.0001), 'fluxo_saida')\n",
        "nivel_liquido = ctrl.Antecedent(npy.arange(1, 1.5, 0.1), 'nivel_liquido')\n",
        "falha1 = ctrl.Consequent(npy.arange(0, 1.1, 0.1), 'falha1')\n",
        "falha2 = ctrl.Consequent(npy.arange(0, 1.1, 0.1), 'falha2')\n",
        "falha3 = ctrl.Consequent(npy.arange(0, 1.1, 0.1), 'falha3')\n",
        "\n",
        "fluxo_saida['baixo'] = fzzy.trapmf(fluxo_saida.universe, [0.000481, 0.0025, 0.003, 0.0033])\n",
        "fluxo_saida['normal'] = fzzy.trimf(fluxo_saida.universe, [0.003, 0.0033, 0.0036])\n",
        "\n",
        "nivel_liquido['baixo'] = fzzy.trimf(nivel_liquido.universe, [0.84, 1, 1.2])\n",
        "nivel_liquido['normal'] = fzzy.trimf(nivel_liquido.universe, [1, 1.2, 1.4])\n",
        "nivel_liquido['alto'] = fzzy.trimf(nivel_liquido.universe, [1.2, 1.4, 1.56])\n",
        "\n",
        "falha1['ocorre'] = fzzy.gaussmf(falha1.universe, 0.5, 0.1)\n",
        "falha1['não ocorre'] = fzzy.fuzzy_not(fzzy.gaussmf(falha1.universe, 0.5, 0.1))\n",
        "falha2['ocorre'] = fzzy.gaussmf(falha2.universe, 0.5, 0.1)\n",
        "falha2['não ocorre'] = fzzy.fuzzy_not(fzzy.gaussmf(falha2.universe, 0.5, 0.1))\n",
        "falha3['ocorre'] = fzzy.gaussmf(falha3.universe, 0.5, 0.1)\n",
        "falha3['não ocorre'] = fzzy.fuzzy_not(fzzy.gaussmf(falha3.universe, 0.5, 0.1))"
      ],
      "metadata": {
        "id": "5eq-s2k_F2DM"
      },
      "execution_count": 29,
      "outputs": []
    },
    {
      "cell_type": "code",
      "source": [
        "regra1 = ctrl.Rule(fluxo_saida['normal'] & nivel_liquido['normal'], falha1['não ocorre'])\n",
        "regra2 = ctrl.Rule(fluxo_saida['normal'] & nivel_liquido['normal'], falha2['não ocorre'])\n",
        "regra3 = ctrl.Rule(fluxo_saida['normal'] & nivel_liquido['normal'], falha3['não ocorre'])\n",
        "regra4 = ctrl.Rule(fluxo_saida['normal'] & nivel_liquido['baixo'], falha1['ocorre'])\n",
        "regra5 = ctrl.Rule(fluxo_saida['normal'] & nivel_liquido['baixo'], falha2['não ocorre'])\n",
        "regra6 = ctrl.Rule(fluxo_saida['normal'] & nivel_liquido['baixo'], falha3['não ocorre'])\n",
        "regra7 = ctrl.Rule(fluxo_saida['normal'] & nivel_liquido['alto'], falha1['não ocorre'])\n",
        "regra8 = ctrl.Rule(fluxo_saida['normal'] & nivel_liquido['alto'], falha2['ocorre'])\n",
        "regra9 = ctrl.Rule(fluxo_saida['normal'] & nivel_liquido['alto'], falha3['não ocorre'])\n",
        "regra10 = ctrl.Rule(fluxo_saida['baixo'] & nivel_liquido['baixo'], falha1['não ocorre'])\n",
        "regra11 = ctrl.Rule(fluxo_saida['baixo'] & nivel_liquido['baixo'], falha2['não ocorre'])\n",
        "regra12 = ctrl.Rule(fluxo_saida['baixo'] & nivel_liquido['baixo'], falha3['ocorre'])"
      ],
      "metadata": {
        "id": "6idRcIbGJfkW"
      },
      "execution_count": 31,
      "outputs": []
    },
    {
      "cell_type": "code",
      "source": [
        "falha1.view()\n",
        "falha2.view()\n",
        "falha3.view()"
      ],
      "metadata": {
        "id": "q6mGfUlJUEMf"
      },
      "execution_count": null,
      "outputs": []
    },
    {
      "cell_type": "markdown",
      "source": [
        "**Exercício 4**\n",
        "\n",
        "Desenvolver um sistema fuzzy (método de Mamdani) que determine o grau de risco de um\n",
        "ataque cardíaco, usando as variáveis dieta, exercício e risco. Observe a tabela na lista:\n",
        "\n",
        "As regras de inferência para o sistema são:\n",
        "• se dieta é baixa E exercício é alto então risco é baixo\n",
        "• se dieta é alta OU exercício é baixo então risco é alto\n",
        "Suponha agora que:\n",
        "Dieta: consuma 3000 calorias por dia.\n",
        "Exercício: gaste (queime) 1000 calorias por dia.\n",
        "Qual é o risco de um ataque cardíaco?"
      ],
      "metadata": {
        "id": "HdPYrePBRCPy"
      }
    },
    {
      "cell_type": "code",
      "source": [
        "calorias_consumidas = ctrl.Antecedent(npy.arange(0, 5000, 10), 'calorias_consumidas')\n",
        "calorias_gastas = ctrl.Antecedent(npy.arange(0, 2000, 10), 'calorias_gastas')\n",
        "risco_ataque = ctrl.Consequent(npy.arange(0, 100, 10), 'risco_ataque')\n",
        "\n",
        "calorias_consumidas['baixas'] = fzzy.trimf(calorias_consumidas.universe, [0, 0, 5000])\n",
        "calorias_consumidas['altas'] = fzzy.trimf(calorias_consumidas.universe, [2500, 2500, 5000])\n",
        "\n",
        "calorias_gastas['baixas'] = fzzy.trimf(calorias_gastas.universe, [0, 0, 2000])\n",
        "calorias_gastas['altas'] = fzzy.trimf(calorias_gastas.universe, [1000, 1000, 2000])\n",
        "\n",
        "risco_ataque['baixo'] = fzzy.trimf(risco_ataque.universe, [0, 0, 100])\n",
        "risco_ataque['alto'] = fzzy.trimf(risco_ataque.universe, [50, 50, 100])"
      ],
      "metadata": {
        "id": "xf9GdABfTpnB"
      },
      "execution_count": 37,
      "outputs": []
    },
    {
      "cell_type": "code",
      "source": [
        "regra1 = ctrl.Rule(calorias_consumidas['baixas'] & calorias_gastas['altas'], risco_ataque['baixo'])\n",
        "regra2 = ctrl.Rule(calorias_consumidas['altas'] | calorias_gastas['baixas'], risco_ataque['alto'])"
      ],
      "metadata": {
        "id": "1EFTymAWU8R_"
      },
      "execution_count": 38,
      "outputs": []
    },
    {
      "cell_type": "code",
      "source": [
        "risco_ctrl = ctrl.ControlSystem([regra1, regra2])\n",
        "risco_simulador = ctrl.ControlSystemSimulation(risco_ctrl)\n",
        "\n",
        "# Entrando com alguns valores para fluxo de saída e nível do líquido\n",
        "risco_simulador.input['calorias_consumidas'] = 3000\n",
        "risco_simulador.input['calorias_gastas'] = 1000\n",
        "\n",
        "# Computando o resultado\n",
        "risco_simulador.compute()\n",
        "print(risco_simulador.output['risco_ataque'])"
      ],
      "metadata": {
        "id": "YczQ413wWHxV"
      },
      "execution_count": null,
      "outputs": []
    },
    {
      "cell_type": "code",
      "source": [
        "risco_ataque.view(sim=risco_simulador)"
      ],
      "metadata": {
        "colab": {
          "base_uri": "https://localhost:8080/",
          "height": 282
        },
        "id": "9A2SvKuyW7JS",
        "outputId": "e387f778-00c9-4035-d3a9-38edf8c6b3c2"
      },
      "execution_count": 40,
      "outputs": [
        {
          "output_type": "display_data",
          "data": {
            "text/plain": [
              "<Figure size 432x288 with 1 Axes>"
            ],
            "image/png": "[encoded data removed]"
          },
          "metadata": {
            "needs_background": "light"
          }
        }
      ]
    },
    {
      "cell_type": "markdown",
      "source": [
        "**Exercício 5**\n",
        "\n",
        "Desenvolva um sistema de inferência fuzzy (Mamdani) com duas variáveis de entrada que\n",
        "representam o número de anos de educação e o número de anos de experiência, e uma\n",
        "variável de saída que representa o salário. Suponha o que diz na tabela na lista:\n",
        "\n",
        "As regras de inferência para o sistema são:\n",
        "• R1: se a educação é baixa E a experiência é baixa, então o salário é muito baixo\n",
        "• R2: se a educação é baixa E a experiência é média, então o salário é baixo\n",
        "• R3: se a educação é baixa E a experiência é alta, então o salário é médio\n",
        "• R4: se a educação é média E a experiência é baixa, então o salário é baixo\n",
        "• R5: se a educação é média E a experiência é média, então o salário é médio\n",
        "• R6: se a educação é média E a experiência alta, então o salário é alto\n",
        "• R7: se a educação é alta E a experiência é baixa, então o salário é médio\n",
        "• R8: se a escolaridade é alta E a experiência é média, então o salário é alto\n",
        "• R9: se a escolaridade é alta E a experiência é alta, então o salário é muito alto\n",
        "\n",
        "Suponha agora que:\n",
        "Educação: 10 anos.\n",
        "Experiência: 18.6 anos.\n",
        "Qual é o salário correspondente?"
      ],
      "metadata": {
        "id": "uDeqoKcbYUVp"
      }
    },
    {
      "cell_type": "code",
      "source": [
        "anos_educacao = ctrl.Antecedent(npy.arange(0, 15, 1), 'anos_educacao')\n",
        "anos_experiencia = ctrl.Antecedent(npy.arange(0, 25, 1), 'anos_experiencia')\n",
        "salario =  ctrl.Consequent(npy.arange(20, 200, 1), 'salario')\n",
        "\n",
        "anos_educacao['baixa'] = fzzy.gaussmf(anos_educacao.universe, 2.5, 0.5)\n",
        "anos_educacao['media'] = fzzy.gaussmf(anos_educacao.universe, 7.5, 0.5)\n",
        "anos_educacao['alta'] = fzzy.gaussmf(anos_educacao.universe, 12.5, 0.5)\n",
        "\n",
        "anos_experiencia['baixa'] = fzzy.gaussmf(anos_experiencia.universe, 5.0, 0.5)\n",
        "anos_experiencia['media'] = fzzy.gaussmf(anos_experiencia.universe, 15.0, 0.5)\n",
        "anos_experiencia['alta'] = fzzy.gaussmf(anos_experiencia.universe, 20.0, 0.5)\n",
        "\n",
        "salario['muito_baixo'] = fzzy.gaussmf(salario.universe, 40.0, 0.5)\n",
        "salario['baixo'] = fzzy.gaussmf(salario.universe, 60.0, 0.5)\n",
        "salario['medio'] = fzzy.gaussmf(salario.universe, 100.0, 0.5)\n",
        "salario['alto'] = fzzy.gaussmf(salario.universe, 150.0, 0.5)\n",
        "salario['muito_alto'] = fzzy.gaussmf(salario.universe, 180.0, 0.5)"
      ],
      "metadata": {
        "id": "EvpfODSXYlHv"
      },
      "execution_count": 42,
      "outputs": []
    },
    {
      "cell_type": "code",
      "source": [
        "regra1 = ctrl.Rule(anos_educacao['baixa'] & anos_experiencia['baixa'], salario['muito_baixo'])\n",
        "regra2 = ctrl.Rule(anos_educacao['baixa'] & anos_experiencia['media'], salario['baixo'])\n",
        "regra3 = ctrl.Rule(anos_educacao['baixa'] & anos_experiencia['alta'], salario['medio'])\n",
        "regra4 = ctrl.Rule(anos_educacao['media'] & anos_experiencia['baixa'], salario['baixo'])\n",
        "regra5 = ctrl.Rule(anos_educacao['media'] & anos_experiencia['media'], salario['medio'])\n",
        "regra6 = ctrl.Rule(anos_educacao['media'] & anos_experiencia['alta'], salario['alto'])\n",
        "regra7 = ctrl.Rule(anos_educacao['alta'] & anos_experiencia['baixa'], salario['medio'])\n",
        "regra8 = ctrl.Rule(anos_educacao['alta'] & anos_experiencia['media'], salario['alto'])\n",
        "regra9 = ctrl.Rule(anos_educacao['alta'] & anos_experiencia['alta'], salario['alto'])"
      ],
      "metadata": {
        "id": "ntp1u7X6bMI_"
      },
      "execution_count": 43,
      "outputs": []
    },
    {
      "cell_type": "code",
      "source": [
        "salario_ctrl = ctrl.ControlSystem([regra1, regra2, regra3, regra4, regra5, regra6, regra7, regra8, regra9])\n",
        "salario_simulador = ctrl.ControlSystemSimulation(salario_ctrl)\n",
        "\n",
        "# Entrando com alguns valores para fluxo de saída e nível do líquido\n",
        "salario_simulador.input['anos_educacao'] = 10\n",
        "salario_simulador.input['anos_experiencia'] = 18.6\n",
        "\n",
        "# Computando o resultado\n",
        "salario_simulador.compute()\n",
        "print(salario_simulador.output['salario'])"
      ],
      "metadata": {
        "colab": {
          "base_uri": "https://localhost:8080/"
        },
        "id": "Y6VyAb6cb5bN",
        "outputId": "77e65872-08f2-4320-af1b-ab53633ff6e6"
      },
      "execution_count": 44,
      "outputs": [
        {
          "output_type": "stream",
          "name": "stdout",
          "text": [
            "149.8965629623287\n"
          ]
        }
      ]
    },
    {
      "cell_type": "code",
      "source": [
        "salario.view(sim=salario_simulador)"
      ],
      "metadata": {
        "colab": {
          "base_uri": "https://localhost:8080/",
          "height": 281
        },
        "id": "Cut9ltpPcTHc",
        "outputId": "7fe1f46b-67ca-4bc9-fd86-9accf74333f3"
      },
      "execution_count": 45,
      "outputs": [
        {
          "output_type": "display_data",
          "data": {
            "text/plain": [
              "<Figure size 432x288 with 1 Axes>"
            ],
            "image/png": "[encoded data removed]"
          },
          "metadata": {
            "needs_background": "light"
          }
        }
      ]
    }
  ]
}